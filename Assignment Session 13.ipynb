{
 "cells": [
  {
   "cell_type": "code",
   "execution_count": 36,
   "metadata": {},
   "outputs": [],
   "source": [
    "# import the library SQLited\n",
    "import sqlite3\n",
    "\n",
    "# Load our regular libraries\n",
    "import pandas as pd\n",
    "import numpy as np\n",
    "from IPython.display import display"
   ]
  },
  {
   "cell_type": "code",
   "execution_count": 2,
   "metadata": {},
   "outputs": [
    {
     "data": {
      "text/html": [
       "<div>\n",
       "<style scoped>\n",
       "    .dataframe tbody tr th:only-of-type {\n",
       "        vertical-align: middle;\n",
       "    }\n",
       "\n",
       "    .dataframe tbody tr th {\n",
       "        vertical-align: top;\n",
       "    }\n",
       "\n",
       "    .dataframe thead th {\n",
       "        text-align: right;\n",
       "    }\n",
       "</style>\n",
       "<table border=\"1\" class=\"dataframe\">\n",
       "  <thead>\n",
       "    <tr style=\"text-align: right;\">\n",
       "      <th></th>\n",
       "      <th>39</th>\n",
       "      <th>State-gov</th>\n",
       "      <th>77516</th>\n",
       "      <th>Bachelors</th>\n",
       "      <th>13</th>\n",
       "      <th>Never-married</th>\n",
       "      <th>Adm-clerical</th>\n",
       "      <th>Not-in-family</th>\n",
       "      <th>White</th>\n",
       "      <th>Male</th>\n",
       "      <th>2174</th>\n",
       "      <th>0</th>\n",
       "      <th>40</th>\n",
       "      <th>United-States</th>\n",
       "      <th>&lt;=50K</th>\n",
       "    </tr>\n",
       "  </thead>\n",
       "  <tbody>\n",
       "    <tr>\n",
       "      <th>0</th>\n",
       "      <td>50</td>\n",
       "      <td>Self-emp-not-inc</td>\n",
       "      <td>83311</td>\n",
       "      <td>Bachelors</td>\n",
       "      <td>13</td>\n",
       "      <td>Married-civ-spouse</td>\n",
       "      <td>Exec-managerial</td>\n",
       "      <td>Husband</td>\n",
       "      <td>White</td>\n",
       "      <td>Male</td>\n",
       "      <td>0</td>\n",
       "      <td>0</td>\n",
       "      <td>13</td>\n",
       "      <td>United-States</td>\n",
       "      <td>&lt;=50K</td>\n",
       "    </tr>\n",
       "    <tr>\n",
       "      <th>1</th>\n",
       "      <td>38</td>\n",
       "      <td>Private</td>\n",
       "      <td>215646</td>\n",
       "      <td>HS-grad</td>\n",
       "      <td>9</td>\n",
       "      <td>Divorced</td>\n",
       "      <td>Handlers-cleaners</td>\n",
       "      <td>Not-in-family</td>\n",
       "      <td>White</td>\n",
       "      <td>Male</td>\n",
       "      <td>0</td>\n",
       "      <td>0</td>\n",
       "      <td>40</td>\n",
       "      <td>United-States</td>\n",
       "      <td>&lt;=50K</td>\n",
       "    </tr>\n",
       "    <tr>\n",
       "      <th>2</th>\n",
       "      <td>53</td>\n",
       "      <td>Private</td>\n",
       "      <td>234721</td>\n",
       "      <td>11th</td>\n",
       "      <td>7</td>\n",
       "      <td>Married-civ-spouse</td>\n",
       "      <td>Handlers-cleaners</td>\n",
       "      <td>Husband</td>\n",
       "      <td>Black</td>\n",
       "      <td>Male</td>\n",
       "      <td>0</td>\n",
       "      <td>0</td>\n",
       "      <td>40</td>\n",
       "      <td>United-States</td>\n",
       "      <td>&lt;=50K</td>\n",
       "    </tr>\n",
       "    <tr>\n",
       "      <th>3</th>\n",
       "      <td>28</td>\n",
       "      <td>Private</td>\n",
       "      <td>338409</td>\n",
       "      <td>Bachelors</td>\n",
       "      <td>13</td>\n",
       "      <td>Married-civ-spouse</td>\n",
       "      <td>Prof-specialty</td>\n",
       "      <td>Wife</td>\n",
       "      <td>Black</td>\n",
       "      <td>Female</td>\n",
       "      <td>0</td>\n",
       "      <td>0</td>\n",
       "      <td>40</td>\n",
       "      <td>Cuba</td>\n",
       "      <td>&lt;=50K</td>\n",
       "    </tr>\n",
       "    <tr>\n",
       "      <th>4</th>\n",
       "      <td>37</td>\n",
       "      <td>Private</td>\n",
       "      <td>284582</td>\n",
       "      <td>Masters</td>\n",
       "      <td>14</td>\n",
       "      <td>Married-civ-spouse</td>\n",
       "      <td>Exec-managerial</td>\n",
       "      <td>Wife</td>\n",
       "      <td>White</td>\n",
       "      <td>Female</td>\n",
       "      <td>0</td>\n",
       "      <td>0</td>\n",
       "      <td>40</td>\n",
       "      <td>United-States</td>\n",
       "      <td>&lt;=50K</td>\n",
       "    </tr>\n",
       "  </tbody>\n",
       "</table>\n",
       "</div>"
      ],
      "text/plain": [
       "   39          State-gov   77516   Bachelors   13        Never-married  \\\n",
       "0  50   Self-emp-not-inc   83311   Bachelors   13   Married-civ-spouse   \n",
       "1  38            Private  215646     HS-grad    9             Divorced   \n",
       "2  53            Private  234721        11th    7   Married-civ-spouse   \n",
       "3  28            Private  338409   Bachelors   13   Married-civ-spouse   \n",
       "4  37            Private  284582     Masters   14   Married-civ-spouse   \n",
       "\n",
       "         Adm-clerical   Not-in-family   White     Male   2174   0   40  \\\n",
       "0     Exec-managerial         Husband   White     Male      0   0   13   \n",
       "1   Handlers-cleaners   Not-in-family   White     Male      0   0   40   \n",
       "2   Handlers-cleaners         Husband   Black     Male      0   0   40   \n",
       "3      Prof-specialty            Wife   Black   Female      0   0   40   \n",
       "4     Exec-managerial            Wife   White   Female      0   0   40   \n",
       "\n",
       "    United-States   <=50K  \n",
       "0   United-States   <=50K  \n",
       "1   United-States   <=50K  \n",
       "2   United-States   <=50K  \n",
       "3            Cuba   <=50K  \n",
       "4   United-States   <=50K  "
      ]
     },
     "metadata": {},
     "output_type": "display_data"
    }
   ],
   "source": [
    "adult_data_df = pd.read_csv('https://archive.ics.uci.edu/ml/machine-learning-databases/adult/adult.data')\n",
    "#adult_data_df = pd.read_csv('adult.data')\n",
    "display(adult_data_df.head())"
   ]
  },
  {
   "cell_type": "code",
   "execution_count": 3,
   "metadata": {},
   "outputs": [],
   "source": [
    "adult_data_df.columns =[\"age\",\"workclass\",\"fnlwgt\",\"education\",\"education_num\",\"marital_status\",\"occupation\",\"relationship\",\"race\",\"sex\",\"capital_gain\",\"capital_loss\",\"hours_per_week\",\"native_country\",\"income\"]"
   ]
  },
  {
   "cell_type": "code",
   "execution_count": 4,
   "metadata": {},
   "outputs": [
    {
     "data": {
      "text/html": [
       "<div>\n",
       "<style scoped>\n",
       "    .dataframe tbody tr th:only-of-type {\n",
       "        vertical-align: middle;\n",
       "    }\n",
       "\n",
       "    .dataframe tbody tr th {\n",
       "        vertical-align: top;\n",
       "    }\n",
       "\n",
       "    .dataframe thead th {\n",
       "        text-align: right;\n",
       "    }\n",
       "</style>\n",
       "<table border=\"1\" class=\"dataframe\">\n",
       "  <thead>\n",
       "    <tr style=\"text-align: right;\">\n",
       "      <th></th>\n",
       "      <th>age</th>\n",
       "      <th>workclass</th>\n",
       "      <th>fnlwgt</th>\n",
       "      <th>education</th>\n",
       "      <th>education_num</th>\n",
       "      <th>marital_status</th>\n",
       "      <th>occupation</th>\n",
       "      <th>relationship</th>\n",
       "      <th>race</th>\n",
       "      <th>sex</th>\n",
       "      <th>capital_gain</th>\n",
       "      <th>capital_loss</th>\n",
       "      <th>hours_per_week</th>\n",
       "      <th>native_country</th>\n",
       "      <th>income</th>\n",
       "    </tr>\n",
       "  </thead>\n",
       "  <tbody>\n",
       "    <tr>\n",
       "      <th>0</th>\n",
       "      <td>50</td>\n",
       "      <td>Self-emp-not-inc</td>\n",
       "      <td>83311</td>\n",
       "      <td>Bachelors</td>\n",
       "      <td>13</td>\n",
       "      <td>Married-civ-spouse</td>\n",
       "      <td>Exec-managerial</td>\n",
       "      <td>Husband</td>\n",
       "      <td>White</td>\n",
       "      <td>Male</td>\n",
       "      <td>0</td>\n",
       "      <td>0</td>\n",
       "      <td>13</td>\n",
       "      <td>United-States</td>\n",
       "      <td>&lt;=50K</td>\n",
       "    </tr>\n",
       "    <tr>\n",
       "      <th>1</th>\n",
       "      <td>38</td>\n",
       "      <td>Private</td>\n",
       "      <td>215646</td>\n",
       "      <td>HS-grad</td>\n",
       "      <td>9</td>\n",
       "      <td>Divorced</td>\n",
       "      <td>Handlers-cleaners</td>\n",
       "      <td>Not-in-family</td>\n",
       "      <td>White</td>\n",
       "      <td>Male</td>\n",
       "      <td>0</td>\n",
       "      <td>0</td>\n",
       "      <td>40</td>\n",
       "      <td>United-States</td>\n",
       "      <td>&lt;=50K</td>\n",
       "    </tr>\n",
       "    <tr>\n",
       "      <th>2</th>\n",
       "      <td>53</td>\n",
       "      <td>Private</td>\n",
       "      <td>234721</td>\n",
       "      <td>11th</td>\n",
       "      <td>7</td>\n",
       "      <td>Married-civ-spouse</td>\n",
       "      <td>Handlers-cleaners</td>\n",
       "      <td>Husband</td>\n",
       "      <td>Black</td>\n",
       "      <td>Male</td>\n",
       "      <td>0</td>\n",
       "      <td>0</td>\n",
       "      <td>40</td>\n",
       "      <td>United-States</td>\n",
       "      <td>&lt;=50K</td>\n",
       "    </tr>\n",
       "    <tr>\n",
       "      <th>3</th>\n",
       "      <td>28</td>\n",
       "      <td>Private</td>\n",
       "      <td>338409</td>\n",
       "      <td>Bachelors</td>\n",
       "      <td>13</td>\n",
       "      <td>Married-civ-spouse</td>\n",
       "      <td>Prof-specialty</td>\n",
       "      <td>Wife</td>\n",
       "      <td>Black</td>\n",
       "      <td>Female</td>\n",
       "      <td>0</td>\n",
       "      <td>0</td>\n",
       "      <td>40</td>\n",
       "      <td>Cuba</td>\n",
       "      <td>&lt;=50K</td>\n",
       "    </tr>\n",
       "    <tr>\n",
       "      <th>4</th>\n",
       "      <td>37</td>\n",
       "      <td>Private</td>\n",
       "      <td>284582</td>\n",
       "      <td>Masters</td>\n",
       "      <td>14</td>\n",
       "      <td>Married-civ-spouse</td>\n",
       "      <td>Exec-managerial</td>\n",
       "      <td>Wife</td>\n",
       "      <td>White</td>\n",
       "      <td>Female</td>\n",
       "      <td>0</td>\n",
       "      <td>0</td>\n",
       "      <td>40</td>\n",
       "      <td>United-States</td>\n",
       "      <td>&lt;=50K</td>\n",
       "    </tr>\n",
       "  </tbody>\n",
       "</table>\n",
       "</div>"
      ],
      "text/plain": [
       "   age          workclass  fnlwgt   education  education_num  \\\n",
       "0   50   Self-emp-not-inc   83311   Bachelors             13   \n",
       "1   38            Private  215646     HS-grad              9   \n",
       "2   53            Private  234721        11th              7   \n",
       "3   28            Private  338409   Bachelors             13   \n",
       "4   37            Private  284582     Masters             14   \n",
       "\n",
       "        marital_status          occupation    relationship    race      sex  \\\n",
       "0   Married-civ-spouse     Exec-managerial         Husband   White     Male   \n",
       "1             Divorced   Handlers-cleaners   Not-in-family   White     Male   \n",
       "2   Married-civ-spouse   Handlers-cleaners         Husband   Black     Male   \n",
       "3   Married-civ-spouse      Prof-specialty            Wife   Black   Female   \n",
       "4   Married-civ-spouse     Exec-managerial            Wife   White   Female   \n",
       "\n",
       "   capital_gain  capital_loss  hours_per_week  native_country  income  \n",
       "0             0             0              13   United-States   <=50K  \n",
       "1             0             0              40   United-States   <=50K  \n",
       "2             0             0              40   United-States   <=50K  \n",
       "3             0             0              40            Cuba   <=50K  \n",
       "4             0             0              40   United-States   <=50K  "
      ]
     },
     "metadata": {},
     "output_type": "display_data"
    }
   ],
   "source": [
    "display(adult_data_df.head())"
   ]
  },
  {
   "cell_type": "code",
   "execution_count": 5,
   "metadata": {},
   "outputs": [],
   "source": [
    "# Start engine with sqlalchemy"
   ]
  },
  {
   "cell_type": "code",
   "execution_count": 6,
   "metadata": {},
   "outputs": [],
   "source": [
    "import sqlalchemy\n",
    "from sqlalchemy import create_engine\n",
    "engine = create_engine('sqlite:///sqladb', echo = True)"
   ]
  },
  {
   "cell_type": "code",
   "execution_count": 7,
   "metadata": {},
   "outputs": [],
   "source": [
    "connection = sqlite3.connect(\"sqladb\")\n",
    "cursor = connection.cursor()"
   ]
  },
  {
   "cell_type": "code",
   "execution_count": 8,
   "metadata": {},
   "outputs": [
    {
     "name": "stdout",
     "output_type": "stream",
     "text": [
      "2018-06-20 19:19:52,379 INFO sqlalchemy.engine.base.Engine SELECT CAST('test plain returns' AS VARCHAR(60)) AS anon_1\n",
      "2018-06-20 19:19:52,394 INFO sqlalchemy.engine.base.Engine ()\n",
      "2018-06-20 19:19:52,394 INFO sqlalchemy.engine.base.Engine SELECT CAST('test unicode returns' AS VARCHAR(60)) AS anon_1\n",
      "2018-06-20 19:19:52,394 INFO sqlalchemy.engine.base.Engine ()\n",
      "2018-06-20 19:19:52,410 INFO sqlalchemy.engine.base.Engine PRAGMA table_info(\"sqladb\")\n",
      "2018-06-20 19:19:52,410 INFO sqlalchemy.engine.base.Engine ()\n",
      "2018-06-20 19:19:52,425 INFO sqlalchemy.engine.base.Engine PRAGMA table_info(\"sqladb\")\n",
      "2018-06-20 19:19:52,425 INFO sqlalchemy.engine.base.Engine ()\n",
      "2018-06-20 19:19:52,425 INFO sqlalchemy.engine.base.Engine SELECT name FROM sqlite_master WHERE type='table' ORDER BY name\n",
      "2018-06-20 19:19:52,441 INFO sqlalchemy.engine.base.Engine ()\n",
      "2018-06-20 19:19:52,441 INFO sqlalchemy.engine.base.Engine PRAGMA table_info(\"sqladb\")\n",
      "2018-06-20 19:19:52,441 INFO sqlalchemy.engine.base.Engine ()\n",
      "2018-06-20 19:19:52,457 INFO sqlalchemy.engine.base.Engine SELECT sql FROM  (SELECT * FROM sqlite_master UNION ALL   SELECT * FROM sqlite_temp_master) WHERE name = 'sqladb' AND type = 'table'\n",
      "2018-06-20 19:19:52,457 INFO sqlalchemy.engine.base.Engine ()\n",
      "2018-06-20 19:19:52,472 INFO sqlalchemy.engine.base.Engine PRAGMA foreign_key_list(\"sqladb\")\n",
      "2018-06-20 19:19:52,519 INFO sqlalchemy.engine.base.Engine ()\n",
      "2018-06-20 19:19:52,535 INFO sqlalchemy.engine.base.Engine SELECT sql FROM  (SELECT * FROM sqlite_master UNION ALL   SELECT * FROM sqlite_temp_master) WHERE name = 'sqladb' AND type = 'table'\n",
      "2018-06-20 19:19:52,550 INFO sqlalchemy.engine.base.Engine ()\n",
      "2018-06-20 19:19:52,550 INFO sqlalchemy.engine.base.Engine PRAGMA index_list(\"sqladb\")\n",
      "2018-06-20 19:19:52,566 INFO sqlalchemy.engine.base.Engine ()\n",
      "2018-06-20 19:19:52,566 INFO sqlalchemy.engine.base.Engine PRAGMA index_info(\"ix_sqladb_index\")\n",
      "2018-06-20 19:19:52,582 INFO sqlalchemy.engine.base.Engine ()\n",
      "2018-06-20 19:19:52,597 INFO sqlalchemy.engine.base.Engine PRAGMA index_list(\"sqladb\")\n",
      "2018-06-20 19:19:52,597 INFO sqlalchemy.engine.base.Engine ()\n",
      "2018-06-20 19:19:52,613 INFO sqlalchemy.engine.base.Engine PRAGMA index_info(\"ix_sqladb_index\")\n",
      "2018-06-20 19:19:52,613 INFO sqlalchemy.engine.base.Engine ()\n",
      "2018-06-20 19:19:52,629 INFO sqlalchemy.engine.base.Engine SELECT sql FROM  (SELECT * FROM sqlite_master UNION ALL   SELECT * FROM sqlite_temp_master) WHERE name = 'sqladb' AND type = 'table'\n",
      "2018-06-20 19:19:52,629 INFO sqlalchemy.engine.base.Engine ()\n",
      "2018-06-20 19:19:52,675 INFO sqlalchemy.engine.base.Engine \n",
      "DROP TABLE sqladb\n",
      "2018-06-20 19:19:52,675 INFO sqlalchemy.engine.base.Engine ()\n",
      "2018-06-20 19:19:52,847 INFO sqlalchemy.engine.base.Engine COMMIT\n",
      "2018-06-20 19:19:52,879 INFO sqlalchemy.engine.base.Engine \n",
      "CREATE TABLE sqladb (\n",
      "\t\"index\" BIGINT, \n",
      "\tage BIGINT, \n",
      "\tworkclass TEXT, \n",
      "\tfnlwgt BIGINT, \n",
      "\teducation TEXT, \n",
      "\teducation_num BIGINT, \n",
      "\tmarital_status TEXT, \n",
      "\toccupation TEXT, \n",
      "\trelationship TEXT, \n",
      "\trace TEXT, \n",
      "\tsex TEXT, \n",
      "\tcapital_gain BIGINT, \n",
      "\tcapital_loss BIGINT, \n",
      "\thours_per_week BIGINT, \n",
      "\tnative_country TEXT, \n",
      "\tincome TEXT\n",
      ")\n",
      "\n",
      "\n",
      "2018-06-20 19:19:52,879 INFO sqlalchemy.engine.base.Engine ()\n",
      "2018-06-20 19:19:53,004 INFO sqlalchemy.engine.base.Engine COMMIT\n",
      "2018-06-20 19:19:53,019 INFO sqlalchemy.engine.base.Engine CREATE INDEX ix_sqladb_index ON sqladb (\"index\")\n",
      "2018-06-20 19:19:53,019 INFO sqlalchemy.engine.base.Engine ()\n",
      "2018-06-20 19:19:53,142 INFO sqlalchemy.engine.base.Engine COMMIT\n",
      "2018-06-20 19:19:53,236 INFO sqlalchemy.engine.base.Engine BEGIN (implicit)\n",
      "2018-06-20 19:19:54,737 INFO sqlalchemy.engine.base.Engine INSERT INTO sqladb (\"index\", age, workclass, fnlwgt, education, education_num, marital_status, occupation, relationship, race, sex, capital_gain, capital_loss, hours_per_week, native_country, income) VALUES (?, ?, ?, ?, ?, ?, ?, ?, ?, ?, ?, ?, ?, ?, ?, ?)\n",
      "2018-06-20 19:19:54,737 INFO sqlalchemy.engine.base.Engine ((0, 50, ' Self-emp-not-inc', 83311, ' Bachelors', 13, ' Married-civ-spouse', ' Exec-managerial', ' Husband', ' White', ' Male', 0, 0, 13, ' United-States', ' <=50K'), (1, 38, ' Private', 215646, ' HS-grad', 9, ' Divorced', ' Handlers-cleaners', ' Not-in-family', ' White', ' Male', 0, 0, 40, ' United-States', ' <=50K'), (2, 53, ' Private', 234721, ' 11th', 7, ' Married-civ-spouse', ' Handlers-cleaners', ' Husband', ' Black', ' Male', 0, 0, 40, ' United-States', ' <=50K'), (3, 28, ' Private', 338409, ' Bachelors', 13, ' Married-civ-spouse', ' Prof-specialty', ' Wife', ' Black', ' Female', 0, 0, 40, ' Cuba', ' <=50K'), (4, 37, ' Private', 284582, ' Masters', 14, ' Married-civ-spouse', ' Exec-managerial', ' Wife', ' White', ' Female', 0, 0, 40, ' United-States', ' <=50K'), (5, 49, ' Private', 160187, ' 9th', 5, ' Married-spouse-absent', ' Other-service', ' Not-in-family', ' Black', ' Female', 0, 0, 16, ' Jamaica', ' <=50K'), (6, 52, ' Self-emp-not-inc', 209642, ' HS-grad', 9, ' Married-civ-spouse', ' Exec-managerial', ' Husband', ' White', ' Male', 0, 0, 45, ' United-States', ' >50K'), (7, 31, ' Private', 45781, ' Masters', 14, ' Never-married', ' Prof-specialty', ' Not-in-family', ' White', ' Female', 14084, 0, 50, ' United-States', ' >50K')  ... displaying 10 of 32560 total bound parameter sets ...  (32558, 22, ' Private', 201490, ' HS-grad', 9, ' Never-married', ' Adm-clerical', ' Own-child', ' White', ' Male', 0, 0, 20, ' United-States', ' <=50K'), (32559, 52, ' Self-emp-inc', 287927, ' HS-grad', 9, ' Married-civ-spouse', ' Exec-managerial', ' Wife', ' White', ' Female', 15024, 0, 40, ' United-States', ' >50K'))\n",
      "2018-06-20 19:19:55,159 INFO sqlalchemy.engine.base.Engine COMMIT\n"
     ]
    }
   ],
   "source": [
    "adult_data_df.to_sql('sqladb', engine, if_exists='replace')"
   ]
  },
  {
   "cell_type": "code",
   "execution_count": 9,
   "metadata": {},
   "outputs": [],
   "source": [
    "# make connection to server\n",
    "connection = sqlite3.connect(\"sqladb\")\n",
    "cursor = connection.cursor()"
   ]
  },
  {
   "cell_type": "code",
   "execution_count": 10,
   "metadata": {},
   "outputs": [
    {
     "data": {
      "text/plain": [
       "[(0, 'index', 'BIGINT', 0, None, 0),\n",
       " (1, 'age', 'BIGINT', 0, None, 0),\n",
       " (2, 'workclass', 'TEXT', 0, None, 0),\n",
       " (3, 'fnlwgt', 'BIGINT', 0, None, 0),\n",
       " (4, 'education', 'TEXT', 0, None, 0),\n",
       " (5, 'education_num', 'BIGINT', 0, None, 0),\n",
       " (6, 'marital_status', 'TEXT', 0, None, 0),\n",
       " (7, 'occupation', 'TEXT', 0, None, 0),\n",
       " (8, 'relationship', 'TEXT', 0, None, 0),\n",
       " (9, 'race', 'TEXT', 0, None, 0),\n",
       " (10, 'sex', 'TEXT', 0, None, 0),\n",
       " (11, 'capital_gain', 'BIGINT', 0, None, 0),\n",
       " (12, 'capital_loss', 'BIGINT', 0, None, 0),\n",
       " (13, 'hours_per_week', 'BIGINT', 0, None, 0),\n",
       " (14, 'native_country', 'TEXT', 0, None, 0),\n",
       " (15, 'income', 'TEXT', 0, None, 0)]"
      ]
     },
     "execution_count": 10,
     "metadata": {},
     "output_type": "execute_result"
    }
   ],
   "source": [
    "cursor.execute('PRAGMA TABLE_INFO({})'.format(\"sqladb\"))\n",
    "cursor.fetchall()"
   ]
  },
  {
   "cell_type": "code",
   "execution_count": 11,
   "metadata": {},
   "outputs": [
    {
     "name": "stdout",
     "output_type": "stream",
     "text": [
      "   index  age          workclass  fnlwgt      education  education_num  \\\n",
      "0      0   50   Self-emp-not-inc   83311      Bachelors             13   \n",
      "1      1   38            Private  215646        HS-grad              9   \n",
      "2      2   53            Private  234721           11th              7   \n",
      "3      3   28            Private  338409      Bachelors             13   \n",
      "4      4   37            Private  284582        Masters             14   \n",
      "5      5   49            Private  160187            9th              5   \n",
      "6      6   52   Self-emp-not-inc  209642        HS-grad              9   \n",
      "7      7   31            Private   45781        Masters             14   \n",
      "8      8   42            Private  159449      Bachelors             13   \n",
      "9      9   37            Private  280464   Some-college             10   \n",
      "\n",
      "           marital_status          occupation    relationship    race  \\\n",
      "0      Married-civ-spouse     Exec-managerial         Husband   White   \n",
      "1                Divorced   Handlers-cleaners   Not-in-family   White   \n",
      "2      Married-civ-spouse   Handlers-cleaners         Husband   Black   \n",
      "3      Married-civ-spouse      Prof-specialty            Wife   Black   \n",
      "4      Married-civ-spouse     Exec-managerial            Wife   White   \n",
      "5   Married-spouse-absent       Other-service   Not-in-family   Black   \n",
      "6      Married-civ-spouse     Exec-managerial         Husband   White   \n",
      "7           Never-married      Prof-specialty   Not-in-family   White   \n",
      "8      Married-civ-spouse     Exec-managerial         Husband   White   \n",
      "9      Married-civ-spouse     Exec-managerial         Husband   Black   \n",
      "\n",
      "       sex  capital_gain  capital_loss  hours_per_week  native_country  income  \n",
      "0     Male             0             0              13   United-States   <=50K  \n",
      "1     Male             0             0              40   United-States   <=50K  \n",
      "2     Male             0             0              40   United-States   <=50K  \n",
      "3   Female             0             0              40            Cuba   <=50K  \n",
      "4   Female             0             0              40   United-States   <=50K  \n",
      "5   Female             0             0              16         Jamaica   <=50K  \n",
      "6     Male             0             0              45   United-States    >50K  \n",
      "7   Female         14084             0              50   United-States    >50K  \n",
      "8     Male          5178             0              40   United-States    >50K  \n",
      "9     Male             0             0              80   United-States    >50K  \n"
     ]
    }
   ],
   "source": [
    "# Q1 Select 10 records from the adult sqladb\n",
    "#cursor.execute('SELECT * FROM {tn} limit 10'. format(tn=\"sqladb\"))\n",
    "#output = cursor.fetchall()\n",
    "#print(output)\n",
    "#\n",
    "# USE Pandas Print because it is cleaner\n",
    "print(pd.read_sql_query('SELECT * FROM sqladb limit 10', connection))"
   ]
  },
  {
   "cell_type": "code",
   "execution_count": 12,
   "metadata": {},
   "outputs": [
    {
     "data": {
      "text/html": [
       "<div>\n",
       "<style scoped>\n",
       "    .dataframe tbody tr th:only-of-type {\n",
       "        vertical-align: middle;\n",
       "    }\n",
       "\n",
       "    .dataframe tbody tr th {\n",
       "        vertical-align: top;\n",
       "    }\n",
       "\n",
       "    .dataframe thead th {\n",
       "        text-align: right;\n",
       "    }\n",
       "</style>\n",
       "<table border=\"1\" class=\"dataframe\">\n",
       "  <thead>\n",
       "    <tr style=\"text-align: right;\">\n",
       "      <th></th>\n",
       "      <th>age</th>\n",
       "      <th>workclass</th>\n",
       "      <th>fnlwgt</th>\n",
       "      <th>education</th>\n",
       "      <th>education_num</th>\n",
       "      <th>marital_status</th>\n",
       "      <th>occupation</th>\n",
       "      <th>relationship</th>\n",
       "      <th>race</th>\n",
       "      <th>sex</th>\n",
       "      <th>capital_gain</th>\n",
       "      <th>capital_loss</th>\n",
       "      <th>hours_per_week</th>\n",
       "      <th>native_country</th>\n",
       "      <th>income</th>\n",
       "    </tr>\n",
       "  </thead>\n",
       "  <tbody>\n",
       "    <tr>\n",
       "      <th>0</th>\n",
       "      <td>50</td>\n",
       "      <td>Self-emp-not-inc</td>\n",
       "      <td>83311</td>\n",
       "      <td>Bachelors</td>\n",
       "      <td>13</td>\n",
       "      <td>Married-civ-spouse</td>\n",
       "      <td>Exec-managerial</td>\n",
       "      <td>Husband</td>\n",
       "      <td>White</td>\n",
       "      <td>Male</td>\n",
       "      <td>0</td>\n",
       "      <td>0</td>\n",
       "      <td>13</td>\n",
       "      <td>United-States</td>\n",
       "      <td>&lt;=50K</td>\n",
       "    </tr>\n",
       "    <tr>\n",
       "      <th>1</th>\n",
       "      <td>38</td>\n",
       "      <td>Private</td>\n",
       "      <td>215646</td>\n",
       "      <td>HS-grad</td>\n",
       "      <td>9</td>\n",
       "      <td>Divorced</td>\n",
       "      <td>Handlers-cleaners</td>\n",
       "      <td>Not-in-family</td>\n",
       "      <td>White</td>\n",
       "      <td>Male</td>\n",
       "      <td>0</td>\n",
       "      <td>0</td>\n",
       "      <td>40</td>\n",
       "      <td>United-States</td>\n",
       "      <td>&lt;=50K</td>\n",
       "    </tr>\n",
       "    <tr>\n",
       "      <th>2</th>\n",
       "      <td>53</td>\n",
       "      <td>Private</td>\n",
       "      <td>234721</td>\n",
       "      <td>11th</td>\n",
       "      <td>7</td>\n",
       "      <td>Married-civ-spouse</td>\n",
       "      <td>Handlers-cleaners</td>\n",
       "      <td>Husband</td>\n",
       "      <td>Black</td>\n",
       "      <td>Male</td>\n",
       "      <td>0</td>\n",
       "      <td>0</td>\n",
       "      <td>40</td>\n",
       "      <td>United-States</td>\n",
       "      <td>&lt;=50K</td>\n",
       "    </tr>\n",
       "    <tr>\n",
       "      <th>3</th>\n",
       "      <td>28</td>\n",
       "      <td>Private</td>\n",
       "      <td>338409</td>\n",
       "      <td>Bachelors</td>\n",
       "      <td>13</td>\n",
       "      <td>Married-civ-spouse</td>\n",
       "      <td>Prof-specialty</td>\n",
       "      <td>Wife</td>\n",
       "      <td>Black</td>\n",
       "      <td>Female</td>\n",
       "      <td>0</td>\n",
       "      <td>0</td>\n",
       "      <td>40</td>\n",
       "      <td>Cuba</td>\n",
       "      <td>&lt;=50K</td>\n",
       "    </tr>\n",
       "    <tr>\n",
       "      <th>4</th>\n",
       "      <td>37</td>\n",
       "      <td>Private</td>\n",
       "      <td>284582</td>\n",
       "      <td>Masters</td>\n",
       "      <td>14</td>\n",
       "      <td>Married-civ-spouse</td>\n",
       "      <td>Exec-managerial</td>\n",
       "      <td>Wife</td>\n",
       "      <td>White</td>\n",
       "      <td>Female</td>\n",
       "      <td>0</td>\n",
       "      <td>0</td>\n",
       "      <td>40</td>\n",
       "      <td>United-States</td>\n",
       "      <td>&lt;=50K</td>\n",
       "    </tr>\n",
       "    <tr>\n",
       "      <th>5</th>\n",
       "      <td>49</td>\n",
       "      <td>Private</td>\n",
       "      <td>160187</td>\n",
       "      <td>9th</td>\n",
       "      <td>5</td>\n",
       "      <td>Married-spouse-absent</td>\n",
       "      <td>Other-service</td>\n",
       "      <td>Not-in-family</td>\n",
       "      <td>Black</td>\n",
       "      <td>Female</td>\n",
       "      <td>0</td>\n",
       "      <td>0</td>\n",
       "      <td>16</td>\n",
       "      <td>Jamaica</td>\n",
       "      <td>&lt;=50K</td>\n",
       "    </tr>\n",
       "    <tr>\n",
       "      <th>6</th>\n",
       "      <td>52</td>\n",
       "      <td>Self-emp-not-inc</td>\n",
       "      <td>209642</td>\n",
       "      <td>HS-grad</td>\n",
       "      <td>9</td>\n",
       "      <td>Married-civ-spouse</td>\n",
       "      <td>Exec-managerial</td>\n",
       "      <td>Husband</td>\n",
       "      <td>White</td>\n",
       "      <td>Male</td>\n",
       "      <td>0</td>\n",
       "      <td>0</td>\n",
       "      <td>45</td>\n",
       "      <td>United-States</td>\n",
       "      <td>&gt;50K</td>\n",
       "    </tr>\n",
       "    <tr>\n",
       "      <th>7</th>\n",
       "      <td>31</td>\n",
       "      <td>Private</td>\n",
       "      <td>45781</td>\n",
       "      <td>Masters</td>\n",
       "      <td>14</td>\n",
       "      <td>Never-married</td>\n",
       "      <td>Prof-specialty</td>\n",
       "      <td>Not-in-family</td>\n",
       "      <td>White</td>\n",
       "      <td>Female</td>\n",
       "      <td>14084</td>\n",
       "      <td>0</td>\n",
       "      <td>50</td>\n",
       "      <td>United-States</td>\n",
       "      <td>&gt;50K</td>\n",
       "    </tr>\n",
       "    <tr>\n",
       "      <th>8</th>\n",
       "      <td>42</td>\n",
       "      <td>Private</td>\n",
       "      <td>159449</td>\n",
       "      <td>Bachelors</td>\n",
       "      <td>13</td>\n",
       "      <td>Married-civ-spouse</td>\n",
       "      <td>Exec-managerial</td>\n",
       "      <td>Husband</td>\n",
       "      <td>White</td>\n",
       "      <td>Male</td>\n",
       "      <td>5178</td>\n",
       "      <td>0</td>\n",
       "      <td>40</td>\n",
       "      <td>United-States</td>\n",
       "      <td>&gt;50K</td>\n",
       "    </tr>\n",
       "    <tr>\n",
       "      <th>9</th>\n",
       "      <td>37</td>\n",
       "      <td>Private</td>\n",
       "      <td>280464</td>\n",
       "      <td>Some-college</td>\n",
       "      <td>10</td>\n",
       "      <td>Married-civ-spouse</td>\n",
       "      <td>Exec-managerial</td>\n",
       "      <td>Husband</td>\n",
       "      <td>Black</td>\n",
       "      <td>Male</td>\n",
       "      <td>0</td>\n",
       "      <td>0</td>\n",
       "      <td>80</td>\n",
       "      <td>United-States</td>\n",
       "      <td>&gt;50K</td>\n",
       "    </tr>\n",
       "  </tbody>\n",
       "</table>\n",
       "</div>"
      ],
      "text/plain": [
       "   age          workclass  fnlwgt      education  education_num  \\\n",
       "0   50   Self-emp-not-inc   83311      Bachelors             13   \n",
       "1   38            Private  215646        HS-grad              9   \n",
       "2   53            Private  234721           11th              7   \n",
       "3   28            Private  338409      Bachelors             13   \n",
       "4   37            Private  284582        Masters             14   \n",
       "5   49            Private  160187            9th              5   \n",
       "6   52   Self-emp-not-inc  209642        HS-grad              9   \n",
       "7   31            Private   45781        Masters             14   \n",
       "8   42            Private  159449      Bachelors             13   \n",
       "9   37            Private  280464   Some-college             10   \n",
       "\n",
       "           marital_status          occupation    relationship    race  \\\n",
       "0      Married-civ-spouse     Exec-managerial         Husband   White   \n",
       "1                Divorced   Handlers-cleaners   Not-in-family   White   \n",
       "2      Married-civ-spouse   Handlers-cleaners         Husband   Black   \n",
       "3      Married-civ-spouse      Prof-specialty            Wife   Black   \n",
       "4      Married-civ-spouse     Exec-managerial            Wife   White   \n",
       "5   Married-spouse-absent       Other-service   Not-in-family   Black   \n",
       "6      Married-civ-spouse     Exec-managerial         Husband   White   \n",
       "7           Never-married      Prof-specialty   Not-in-family   White   \n",
       "8      Married-civ-spouse     Exec-managerial         Husband   White   \n",
       "9      Married-civ-spouse     Exec-managerial         Husband   Black   \n",
       "\n",
       "       sex  capital_gain  capital_loss  hours_per_week  native_country  income  \n",
       "0     Male             0             0              13   United-States   <=50K  \n",
       "1     Male             0             0              40   United-States   <=50K  \n",
       "2     Male             0             0              40   United-States   <=50K  \n",
       "3   Female             0             0              40            Cuba   <=50K  \n",
       "4   Female             0             0              40   United-States   <=50K  \n",
       "5   Female             0             0              16         Jamaica   <=50K  \n",
       "6     Male             0             0              45   United-States    >50K  \n",
       "7   Female         14084             0              50   United-States    >50K  \n",
       "8     Male          5178             0              40   United-States    >50K  \n",
       "9     Male             0             0              80   United-States    >50K  "
      ]
     },
     "metadata": {},
     "output_type": "display_data"
    }
   ],
   "source": [
    "display(adult_data_df.head(10))"
   ]
  },
  {
   "cell_type": "code",
   "execution_count": 13,
   "metadata": {},
   "outputs": [],
   "source": [
    "# Q2 Show me the average hours per week of all men who are working in private sector"
   ]
  },
  {
   "cell_type": "code",
   "execution_count": 14,
   "metadata": {},
   "outputs": [
    {
     "name": "stdout",
     "output_type": "stream",
     "text": [
      "[(40.267095523440254,)]\n"
     ]
    }
   ],
   "source": [
    "cursor.execute('SELECT avg(hours_per_week) FROM sqladb WHERE workclass=\" Private\"')\n",
    "output = cursor.fetchall()\n",
    "print(output)"
   ]
  },
  {
   "cell_type": "code",
   "execution_count": 15,
   "metadata": {},
   "outputs": [],
   "source": [
    "# Q3  Show me the frequency table for education, occupation and relationship, separately"
   ]
  },
  {
   "cell_type": "code",
   "execution_count": 16,
   "metadata": {},
   "outputs": [
    {
     "name": "stdout",
     "output_type": "stream",
     "text": [
      "[(' 10th', 933), (' 11th', 1175), (' 12th', 433), (' 1st-4th', 168), (' 5th-6th', 333), (' 7th-8th', 646), (' 9th', 514), (' Assoc-acdm', 1067), (' Assoc-voc', 1382), (' Bachelors', 5354), (' Doctorate', 413), (' HS-grad', 10501), (' Masters', 1723), (' Preschool', 51), (' Prof-school', 576), (' Some-college', 7291)]\n"
     ]
    }
   ],
   "source": [
    "# Frequency table for education\n",
    "cursor.execute('SELECT education, COUNT(*) from sqladb GROUP by education')\n",
    "output = cursor.fetchall()\n",
    "print(output)"
   ]
  },
  {
   "cell_type": "code",
   "execution_count": 17,
   "metadata": {},
   "outputs": [
    {
     "name": "stdout",
     "output_type": "stream",
     "text": [
      "[(' ?', 1843), (' Adm-clerical', 3769), (' Armed-Forces', 9), (' Craft-repair', 4099), (' Exec-managerial', 4066), (' Farming-fishing', 994), (' Handlers-cleaners', 1370), (' Machine-op-inspct', 2002), (' Other-service', 3295), (' Priv-house-serv', 149), (' Prof-specialty', 4140), (' Protective-serv', 649), (' Sales', 3650), (' Tech-support', 928), (' Transport-moving', 1597)]\n"
     ]
    }
   ],
   "source": [
    "# Frequency by occupation\n",
    "cursor.execute('SELECT occupation, COUNT(*) from sqladb GROUP by occupation')\n",
    "output = cursor.fetchall()\n",
    "print(output)"
   ]
  },
  {
   "cell_type": "code",
   "execution_count": 18,
   "metadata": {},
   "outputs": [
    {
     "name": "stdout",
     "output_type": "stream",
     "text": [
      "[(' Husband', 13193), (' Not-in-family', 8304), (' Other-relative', 981), (' Own-child', 5068), (' Unmarried', 3446), (' Wife', 1568)]\n"
     ]
    }
   ],
   "source": [
    "# Frequency by relationship\n",
    "cursor.execute('SELECT relationship, COUNT(*) from sqladb GROUP by relationship')\n",
    "output = cursor.fetchall()\n",
    "print(output)"
   ]
  },
  {
   "cell_type": "code",
   "execution_count": 19,
   "metadata": {},
   "outputs": [],
   "source": [
    "# Q4 Are there any people who are married, working in private sector and having a masters degree"
   ]
  },
  {
   "cell_type": "code",
   "execution_count": 20,
   "metadata": {},
   "outputs": [],
   "source": [
    "# Q5 What is the average, minimum and maximum age group for people working in different sectors"
   ]
  },
  {
   "cell_type": "code",
   "execution_count": 21,
   "metadata": {},
   "outputs": [
    {
     "name": "stdout",
     "output_type": "stream",
     "text": [
      "   index  age workclass  fnlwgt education  education_num       marital_status  \\\n",
      "0      4   37   Private  284582   Masters             14   Married-civ-spouse   \n",
      "1     86   33   Private  202051   Masters             14   Married-civ-spouse   \n",
      "2     99   76   Private  124191   Masters             14   Married-civ-spouse   \n",
      "3    187   31   Private   99928   Masters             14   Married-civ-spouse   \n",
      "4    197   35   Private  138992   Masters             14   Married-civ-spouse   \n",
      "5    310   34   Private  142897   Masters             14   Married-civ-spouse   \n",
      "6    360   62   Private  270092   Masters             14   Married-civ-spouse   \n",
      "7    404   41   Private  445382   Masters             14   Married-civ-spouse   \n",
      "8    434   33   Private  208405   Masters             14   Married-civ-spouse   \n",
      "9    467   49   Private  192776   Masters             14   Married-civ-spouse   \n",
      "\n",
      "         occupation     relationship                 race      sex  \\\n",
      "0   Exec-managerial             Wife                White   Female   \n",
      "1    Prof-specialty          Husband                White     Male   \n",
      "2   Exec-managerial          Husband                White     Male   \n",
      "3    Prof-specialty             Wife                White   Female   \n",
      "4    Prof-specialty   Other-relative                White     Male   \n",
      "5   Exec-managerial          Husband   Asian-Pac-Islander     Male   \n",
      "6    Prof-specialty          Husband                White     Male   \n",
      "7   Exec-managerial          Husband                White     Male   \n",
      "8    Prof-specialty          Husband                White     Male   \n",
      "9   Exec-managerial          Husband                White     Male   \n",
      "\n",
      "   capital_gain  capital_loss  hours_per_week  native_country  income  \n",
      "0             0             0              40   United-States   <=50K  \n",
      "1             0             0              50   United-States   <=50K  \n",
      "2             0             0              40   United-States    >50K  \n",
      "3             0             0              50   United-States   <=50K  \n",
      "4          7298             0              40   United-States    >50K  \n",
      "5          7298             0              35          Taiwan    >50K  \n",
      "6             0             0              40   United-States    >50K  \n",
      "7             0          1977              65   United-States    >50K  \n",
      "8             0             0              50   United-States    >50K  \n",
      "9             0          1977              45   United-States    >50K  \n"
     ]
    }
   ],
   "source": [
    "print(pd.read_sql_query('SELECT * FROM sqladb WHERE education=\" Masters\" AND workclass=\" Private\" AND marital_status=\" Married-civ-spouse\"', connection).head(10))"
   ]
  },
  {
   "cell_type": "code",
   "execution_count": 22,
   "metadata": {},
   "outputs": [
    {
     "name": "stdout",
     "output_type": "stream",
     "text": [
      "[(' ?', 40.882799782962564), (' Adm-clerical', 36.96391615813213), (' Armed-Forces', 30.22222222222222), (' Craft-repair', 39.03147109050988), (' Exec-managerial', 42.16920806689621), (' Farming-fishing', 41.2112676056338), (' Handlers-cleaners', 32.16569343065694), (' Machine-op-inspct', 37.71528471528472), (' Other-service', 34.94962063732929), (' Priv-house-serv', 41.7248322147651), (' Prof-specialty', 40.51763285024155), (' Protective-serv', 38.9537750385208), (' Sales', 37.353972602739724), (' Tech-support', 37.022629310344826), (' Transport-moving', 40.19787100814026)]\n"
     ]
    }
   ],
   "source": [
    "# average age for people working in different sectors\n",
    "cursor.execute('SELECT occupation, avg(age) from sqladb GROUP by occupation')\n",
    "output = cursor.fetchall()\n",
    "print(output)"
   ]
  },
  {
   "cell_type": "code",
   "execution_count": 23,
   "metadata": {},
   "outputs": [],
   "source": [
    "# minimum age for people working in different sectors"
   ]
  },
  {
   "cell_type": "code",
   "execution_count": 24,
   "metadata": {},
   "outputs": [
    {
     "name": "stdout",
     "output_type": "stream",
     "text": [
      "[(' ?', 17), (' Adm-clerical', 17), (' Armed-Forces', 23), (' Craft-repair', 17), (' Exec-managerial', 17), (' Farming-fishing', 17), (' Handlers-cleaners', 17), (' Machine-op-inspct', 17), (' Other-service', 17), (' Priv-house-serv', 17), (' Prof-specialty', 17), (' Protective-serv', 17), (' Sales', 17), (' Tech-support', 17), (' Transport-moving', 17)]\n"
     ]
    }
   ],
   "source": [
    "cursor.execute('SELECT occupation, min(age) from sqladb GROUP by occupation')\n",
    "output = cursor.fetchall()\n",
    "print(output)"
   ]
  },
  {
   "cell_type": "code",
   "execution_count": 25,
   "metadata": {},
   "outputs": [
    {
     "name": "stdout",
     "output_type": "stream",
     "text": [
      "[(' ?', 90), (' Adm-clerical', 90), (' Armed-Forces', 46), (' Craft-repair', 90), (' Exec-managerial', 90), (' Farming-fishing', 90), (' Handlers-cleaners', 90), (' Machine-op-inspct', 90), (' Other-service', 90), (' Priv-house-serv', 81), (' Prof-specialty', 90), (' Protective-serv', 90), (' Sales', 90), (' Tech-support', 73), (' Transport-moving', 90)]\n"
     ]
    }
   ],
   "source": [
    "# maximum age for people working in differnt sectors\n",
    "cursor.execute('SELECT occupation, max(age) from sqladb GROUP by occupation')\n",
    "output = cursor.fetchall()\n",
    "print(output)"
   ]
  },
  {
   "cell_type": "code",
   "execution_count": 26,
   "metadata": {},
   "outputs": [],
   "source": [
    "# Q5 Calculate age distribution by country"
   ]
  },
  {
   "cell_type": "code",
   "execution_count": 27,
   "metadata": {},
   "outputs": [
    {
     "data": {
      "text/plain": [
       "[(' ?', 17),\n",
       " (' Cambodia', 18),\n",
       " (' Canada', 17),\n",
       " (' China', 22),\n",
       " (' Columbia', 18),\n",
       " (' Cuba', 21),\n",
       " (' Dominican-Republic', 18),\n",
       " (' Ecuador', 21),\n",
       " (' El-Salvador', 17),\n",
       " (' England', 17),\n",
       " (' France', 20),\n",
       " (' Germany', 18),\n",
       " (' Greece', 22),\n",
       " (' Guatemala', 19),\n",
       " (' Haiti', 17),\n",
       " (' Holand-Netherlands', 32),\n",
       " (' Honduras', 18),\n",
       " (' Hong', 19),\n",
       " (' Hungary', 24),\n",
       " (' India', 17),\n",
       " (' Iran', 22),\n",
       " (' Ireland', 23),\n",
       " (' Italy', 19),\n",
       " (' Jamaica', 18),\n",
       " (' Japan', 19),\n",
       " (' Laos', 19),\n",
       " (' Mexico', 17),\n",
       " (' Nicaragua', 19),\n",
       " (' Outlying-US(Guam-USVI-etc)', 21),\n",
       " (' Peru', 17),\n",
       " (' Philippines', 17),\n",
       " (' Poland', 17),\n",
       " (' Portugal', 19),\n",
       " (' Puerto-Rico', 17),\n",
       " (' Scotland', 18),\n",
       " (' South', 19),\n",
       " (' Taiwan', 20),\n",
       " (' Thailand', 19),\n",
       " (' Trinadad&Tobago', 17),\n",
       " (' United-States', 17),\n",
       " (' Vietnam', 19),\n",
       " (' Yugoslavia', 20)]"
      ]
     },
     "metadata": {},
     "output_type": "display_data"
    }
   ],
   "source": [
    "# min age distribution by country\n",
    "cursor.execute('SELECT native_country, min(age) from sqladb GROUP by native_country')\n",
    "output = cursor.fetchall()\n",
    "display(output)"
   ]
  },
  {
   "cell_type": "code",
   "execution_count": 28,
   "metadata": {},
   "outputs": [
    {
     "data": {
      "text/plain": [
       "[(' ?', 90),\n",
       " (' Cambodia', 65),\n",
       " (' Canada', 80),\n",
       " (' China', 75),\n",
       " (' Columbia', 75),\n",
       " (' Cuba', 82),\n",
       " (' Dominican-Republic', 78),\n",
       " (' Ecuador', 90),\n",
       " (' El-Salvador', 79),\n",
       " (' England', 90),\n",
       " (' France', 64),\n",
       " (' Germany', 74),\n",
       " (' Greece', 65),\n",
       " (' Guatemala', 66),\n",
       " (' Haiti', 63),\n",
       " (' Holand-Netherlands', 32),\n",
       " (' Honduras', 58),\n",
       " (' Hong', 60),\n",
       " (' Hungary', 81),\n",
       " (' India', 61),\n",
       " (' Iran', 63),\n",
       " (' Ireland', 68),\n",
       " (' Italy', 77),\n",
       " (' Jamaica', 66),\n",
       " (' Japan', 61),\n",
       " (' Laos', 56),\n",
       " (' Mexico', 81),\n",
       " (' Nicaragua', 67),\n",
       " (' Outlying-US(Guam-USVI-etc)', 63),\n",
       " (' Peru', 69),\n",
       " (' Philippines', 90),\n",
       " (' Poland', 85),\n",
       " (' Portugal', 78),\n",
       " (' Puerto-Rico', 90),\n",
       " (' Scotland', 62),\n",
       " (' South', 90),\n",
       " (' Taiwan', 61),\n",
       " (' Thailand', 55),\n",
       " (' Trinadad&Tobago', 61),\n",
       " (' United-States', 90),\n",
       " (' Vietnam', 73),\n",
       " (' Yugoslavia', 66)]"
      ]
     },
     "metadata": {},
     "output_type": "display_data"
    }
   ],
   "source": [
    "# max age distribution by country\n",
    "cursor.execute('SELECT native_country, max(age) from sqladb GROUP by native_country')\n",
    "output = cursor.fetchall()\n",
    "display(output)"
   ]
  },
  {
   "cell_type": "code",
   "execution_count": 29,
   "metadata": {},
   "outputs": [
    {
     "data": {
      "text/plain": [
       "[(' ?', 38.72555746140652),\n",
       " (' Cambodia', 37.78947368421053),\n",
       " (' Canada', 42.54545454545455),\n",
       " (' China', 42.53333333333333),\n",
       " (' Columbia', 39.71186440677966),\n",
       " (' Cuba', 45.76842105263158),\n",
       " (' Dominican-Republic', 37.72857142857143),\n",
       " (' Ecuador', 36.642857142857146),\n",
       " (' El-Salvador', 34.132075471698116),\n",
       " (' England', 41.15555555555556),\n",
       " (' France', 38.96551724137931),\n",
       " (' Germany', 39.25547445255474),\n",
       " (' Greece', 46.206896551724135),\n",
       " (' Guatemala', 32.421875),\n",
       " (' Haiti', 38.27272727272727),\n",
       " (' Holand-Netherlands', 32.0),\n",
       " (' Honduras', 33.84615384615385),\n",
       " (' Hong', 33.65),\n",
       " (' Hungary', 49.38461538461539),\n",
       " (' India', 38.09),\n",
       " (' Iran', 39.41860465116279),\n",
       " (' Ireland', 36.458333333333336),\n",
       " (' Italy', 46.42465753424658),\n",
       " (' Jamaica', 35.592592592592595),\n",
       " (' Japan', 38.24193548387097),\n",
       " (' Laos', 34.72222222222222),\n",
       " (' Mexico', 33.29082426127527),\n",
       " (' Nicaragua', 33.61764705882353),\n",
       " (' Outlying-US(Guam-USVI-etc)', 38.714285714285715),\n",
       " (' Peru', 35.25806451612903),\n",
       " (' Philippines', 39.44444444444444),\n",
       " (' Poland', 43.11666666666667),\n",
       " (' Portugal', 40.2972972972973),\n",
       " (' Puerto-Rico', 40.50877192982456),\n",
       " (' Scotland', 40.416666666666664),\n",
       " (' South', 38.75),\n",
       " (' Taiwan', 33.8235294117647),\n",
       " (' Thailand', 34.94444444444444),\n",
       " (' Trinadad&Tobago', 41.31578947368421),\n",
       " (' United-States', 38.65566183276766),\n",
       " (' Vietnam', 34.059701492537314),\n",
       " (' Yugoslavia', 38.8125)]"
      ]
     },
     "metadata": {},
     "output_type": "display_data"
    }
   ],
   "source": [
    "# average age distribution by country\n",
    "cursor.execute('SELECT native_country, avg(age) from sqladb GROUP by native_country')\n",
    "output = cursor.fetchall()\n",
    "display(output)"
   ]
  },
  {
   "cell_type": "code",
   "execution_count": 30,
   "metadata": {},
   "outputs": [],
   "source": [
    "# Q7. Compute a new column as 'Net-Capital-Gain' from the two columns 'capital-gain' and 'capital-loss'"
   ]
  },
  {
   "cell_type": "code",
   "execution_count": 32,
   "metadata": {},
   "outputs": [
    {
     "data": {
      "text/plain": [
       "<sqlite3.Cursor at 0x278f192a960>"
      ]
     },
     "execution_count": 32,
     "metadata": {},
     "output_type": "execute_result"
    }
   ],
   "source": [
    "cursor.execute('alter table sqladb add column net_capital_gain')"
   ]
  },
  {
   "cell_type": "code",
   "execution_count": 33,
   "metadata": {},
   "outputs": [
    {
     "data": {
      "text/plain": [
       "<sqlite3.Cursor at 0x278f192a960>"
      ]
     },
     "execution_count": 33,
     "metadata": {},
     "output_type": "execute_result"
    }
   ],
   "source": [
    "cursor.execute('UPDATE sqladb SET net_capital_gain = capital_gain-capital_loss')"
   ]
  },
  {
   "cell_type": "code",
   "execution_count": 35,
   "metadata": {},
   "outputs": [
    {
     "name": "stdout",
     "output_type": "stream",
     "text": [
      "   index  age          workclass  fnlwgt      education  education_num  \\\n",
      "0      0   50   Self-emp-not-inc   83311      Bachelors             13   \n",
      "1      1   38            Private  215646        HS-grad              9   \n",
      "2      2   53            Private  234721           11th              7   \n",
      "3      3   28            Private  338409      Bachelors             13   \n",
      "4      4   37            Private  284582        Masters             14   \n",
      "5      5   49            Private  160187            9th              5   \n",
      "6      6   52   Self-emp-not-inc  209642        HS-grad              9   \n",
      "7      7   31            Private   45781        Masters             14   \n",
      "8      8   42            Private  159449      Bachelors             13   \n",
      "9      9   37            Private  280464   Some-college             10   \n",
      "\n",
      "           marital_status          occupation    relationship    race  \\\n",
      "0      Married-civ-spouse     Exec-managerial         Husband   White   \n",
      "1                Divorced   Handlers-cleaners   Not-in-family   White   \n",
      "2      Married-civ-spouse   Handlers-cleaners         Husband   Black   \n",
      "3      Married-civ-spouse      Prof-specialty            Wife   Black   \n",
      "4      Married-civ-spouse     Exec-managerial            Wife   White   \n",
      "5   Married-spouse-absent       Other-service   Not-in-family   Black   \n",
      "6      Married-civ-spouse     Exec-managerial         Husband   White   \n",
      "7           Never-married      Prof-specialty   Not-in-family   White   \n",
      "8      Married-civ-spouse     Exec-managerial         Husband   White   \n",
      "9      Married-civ-spouse     Exec-managerial         Husband   Black   \n",
      "\n",
      "       sex  capital_gain  capital_loss  hours_per_week  native_country  \\\n",
      "0     Male             0             0              13   United-States   \n",
      "1     Male             0             0              40   United-States   \n",
      "2     Male             0             0              40   United-States   \n",
      "3   Female             0             0              40            Cuba   \n",
      "4   Female             0             0              40   United-States   \n",
      "5   Female             0             0              16         Jamaica   \n",
      "6     Male             0             0              45   United-States   \n",
      "7   Female         14084             0              50   United-States   \n",
      "8     Male          5178             0              40   United-States   \n",
      "9     Male             0             0              80   United-States   \n",
      "\n",
      "   income  net_capital_gain  \n",
      "0   <=50K                 0  \n",
      "1   <=50K                 0  \n",
      "2   <=50K                 0  \n",
      "3   <=50K                 0  \n",
      "4   <=50K                 0  \n",
      "5   <=50K                 0  \n",
      "6    >50K                 0  \n",
      "7    >50K             14084  \n",
      "8    >50K              5178  \n",
      "9    >50K                 0  \n"
     ]
    }
   ],
   "source": [
    "print(pd.read_sql_query(\"SELECT * FROM sqladb\", connection).head(10))"
   ]
  },
  {
   "cell_type": "code",
   "execution_count": null,
   "metadata": {},
   "outputs": [],
   "source": []
  }
 ],
 "metadata": {
  "kernelspec": {
   "display_name": "Python 3",
   "language": "python",
   "name": "python3"
  },
  "language_info": {
   "codemirror_mode": {
    "name": "ipython",
    "version": 3
   },
   "file_extension": ".py",
   "mimetype": "text/x-python",
   "name": "python",
   "nbconvert_exporter": "python",
   "pygments_lexer": "ipython3",
   "version": "3.6.4"
  }
 },
 "nbformat": 4,
 "nbformat_minor": 2
}
